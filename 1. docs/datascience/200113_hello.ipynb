{
 "cells": [
  {
   "cell_type": "code",
   "execution_count": 1,
   "metadata": {},
   "outputs": [
    {
     "name": "stdout",
     "output_type": "stream",
     "text": [
      "hello \n",
      "wor\n"
     ]
    }
   ],
   "source": [
    "# 문자열 슬라이싱\n",
    "my_string = 'hello world'\n",
    "print(my_string[0:6])\n",
    "print(my_string[6:9])"
   ]
  },
  {
   "cell_type": "code",
   "execution_count": 13,
   "metadata": {},
   "outputs": [
    {
     "name": "stdout",
     "output_type": "stream",
     "text": [
      "['b', 'o', 'r']\n"
     ]
    }
   ],
   "source": [
    "# 데이터 처리 간 원본 수정 vs 복사본\n",
    "fav_colors = ['red', 'black', 'orange']\n",
    "# fav_colors[2] = 'gray' #원본 변경\n",
    "# fav_colors.append('dark') #원본 변경\n",
    "# fav_colors.sort() #원본 변경\n",
    "print(fav_colors)"
   ]
  },
  {
   "cell_type": "code",
   "execution_count": null,
   "metadata": {},
   "outputs": [],
   "source": [
    "# 리스트 합치기\n",
    "fav_colors = ['red', 'black', 'orange']\n",
    "my_hobby = ['football', 'swim', 'tennis']\n",
    "merged_data = fav_colors+my_hobby"
   ]
  },
  {
   "cell_type": "code",
   "execution_count": 19,
   "metadata": {},
   "outputs": [
    {
     "data": {
      "text/plain": [
       "list"
      ]
     },
     "execution_count": 19,
     "metadata": {},
     "output_type": "execute_result"
    }
   ],
   "source": []
  }
 ],
 "metadata": {
  "kernelspec": {
   "display_name": "Python 3",
   "language": "python",
   "name": "python3"
  },
  "language_info": {
   "codemirror_mode": {
    "name": "ipython",
    "version": 3
   },
   "file_extension": ".py",
   "mimetype": "text/x-python",
   "name": "python",
   "nbconvert_exporter": "python",
   "pygments_lexer": "ipython3",
   "version": "3.7.3"
  }
 },
 "nbformat": 4,
 "nbformat_minor": 2
}
